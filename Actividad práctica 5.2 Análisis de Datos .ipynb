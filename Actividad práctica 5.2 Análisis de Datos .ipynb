{
 "cells": [
  {
   "cell_type": "markdown",
   "metadata": {},
   "source": [
    "### Actividad práctica 5.2 Análisis de Datos Textuales"
   ]
  },
  {
   "cell_type": "markdown",
   "metadata": {},
   "source": [
    "Vamos a adaptar el ejercicio de análisis de datos textuales utilizando un \n",
    "conjunto de datos sobre álbumes de todos los tiempos, donde el campo de \n",
    "interés será \"Average Rating\". Vamos a realizar un análisis de sentimiento \n",
    "sobre las reseñas de los álbums y visualizar los resultados. A continuación, \n",
    "te explico cómo hacerlo paso a paso. "
   ]
  },
  {
   "cell_type": "markdown",
   "metadata": {},
   "source": [
    "### Paso 1: Instalación de librerías necesarias"
   ]
  },
  {
   "cell_type": "markdown",
   "metadata": {},
   "source": [
    "Antes de comenzar, asegúrate de tener las librerías necesarias instaladas: \n",
    "pip install nltk pandas matplotlib seaborn "
   ]
  },
  {
   "cell_type": "markdown",
   "metadata": {},
   "source": [
    "### Paso 2: Importar las librerías necesarias"
   ]
  },
  {
   "cell_type": "markdown",
   "metadata": {},
   "source": [
    "Comenzamos importando las librerías necesarias: "
   ]
  },
  {
   "cell_type": "code",
   "execution_count": 1,
   "metadata": {},
   "outputs": [
    {
     "name": "stderr",
     "output_type": "stream",
     "text": [
      "[nltk_data] Downloading package vader_lexicon to\n",
      "[nltk_data]     C:\\Users\\Javier\\AppData\\Roaming\\nltk_data...\n",
      "[nltk_data]   Package vader_lexicon is already up-to-date!\n",
      "[nltk_data] Downloading package stopwords to\n",
      "[nltk_data]     C:\\Users\\Javier\\AppData\\Roaming\\nltk_data...\n",
      "[nltk_data]   Package stopwords is already up-to-date!\n",
      "[nltk_data] Downloading package punkt_tab to\n",
      "[nltk_data]     C:\\Users\\Javier\\AppData\\Roaming\\nltk_data...\n",
      "[nltk_data]   Package punkt_tab is already up-to-date!\n"
     ]
    },
    {
     "data": {
      "text/plain": [
       "True"
      ]
     },
     "execution_count": 1,
     "metadata": {},
     "output_type": "execute_result"
    }
   ],
   "source": [
    "import nltk \n",
    "import pandas as pd \n",
    "import matplotlib.pyplot as plt \n",
    "import seaborn as sns \n",
    "from nltk.corpus import stopwords \n",
    "from nltk.tokenize import word_tokenize\n",
    "from nltk.stem import WordNetLemmatizer \n",
    "from nltk.sentiment import SentimentIntensityAnalyzer \n",
    "nltk.download('vader_lexicon')\n",
    "nltk.download('stopwords')\n",
    "nltk.download('punkt_tab')"
   ]
  },
  {
   "cell_type": "markdown",
   "metadata": {},
   "source": [
    "### Paso 3: Cargar el conjunto de datos "
   ]
  },
  {
   "cell_type": "markdown",
   "metadata": {},
   "source": [
    "Suponemos que tenemos un conjunto de datos sobre álbumes musicales con las \n",
    "siguientes columnas relevantes: "
   ]
  },
  {
   "cell_type": "markdown",
   "metadata": {},
   "source": [
    "- album_name: Nombre del álbum \n",
    "- artist: Artista del álbum \n",
    "- review: Reseña del álbum (texto) \n",
    "- average_rating: Puntuación promedio del álbum (número) "
   ]
  },
  {
   "cell_type": "markdown",
   "metadata": {},
   "source": [
    "Cargamos el conjunto de datos usando pandas:"
   ]
  },
  {
   "cell_type": "code",
   "execution_count": 2,
   "metadata": {},
   "outputs": [
    {
     "name": "stdout",
     "output_type": "stream",
     "text": [
      "Index(['Ranking', 'Album', 'Artist Name', 'Release Date', 'Genres',\n",
      "       'Descriptors', 'Average Rating', 'Number of Ratings', 'Reviews'],\n",
      "      dtype='object')\n",
      "<class 'pandas.core.frame.DataFrame'>\n",
      "RangeIndex: 5000 entries, 0 to 4999\n",
      "Data columns (total 9 columns):\n",
      " #   Column             Non-Null Count  Dtype  \n",
      "---  ------             --------------  -----  \n",
      " 0   Ranking            5000 non-null   float64\n",
      " 1   Album              5000 non-null   object \n",
      " 2   Artist Name        5000 non-null   object \n",
      " 3   Release Date       5000 non-null   object \n",
      " 4   Genres             5000 non-null   object \n",
      " 5   Descriptors        4886 non-null   object \n",
      " 6   Average Rating     5000 non-null   float64\n",
      " 7   Number of Ratings  5000 non-null   object \n",
      " 8   Reviews            5000 non-null   int64  \n",
      "dtypes: float64(2), int64(1), object(6)\n",
      "memory usage: 351.7+ KB\n"
     ]
    },
    {
     "data": {
      "text/html": [
       "<div>\n",
       "<style scoped>\n",
       "    .dataframe tbody tr th:only-of-type {\n",
       "        vertical-align: middle;\n",
       "    }\n",
       "\n",
       "    .dataframe tbody tr th {\n",
       "        vertical-align: top;\n",
       "    }\n",
       "\n",
       "    .dataframe thead th {\n",
       "        text-align: right;\n",
       "    }\n",
       "</style>\n",
       "<table border=\"1\" class=\"dataframe\">\n",
       "  <thead>\n",
       "    <tr style=\"text-align: right;\">\n",
       "      <th></th>\n",
       "      <th>Ranking</th>\n",
       "      <th>Album</th>\n",
       "      <th>Artist Name</th>\n",
       "      <th>Release Date</th>\n",
       "      <th>Genres</th>\n",
       "      <th>Descriptors</th>\n",
       "      <th>Average Rating</th>\n",
       "      <th>Number of Ratings</th>\n",
       "      <th>Reviews</th>\n",
       "    </tr>\n",
       "  </thead>\n",
       "  <tbody>\n",
       "    <tr>\n",
       "      <th>0</th>\n",
       "      <td>1.0</td>\n",
       "      <td>OK Computer</td>\n",
       "      <td>Radiohead</td>\n",
       "      <td>16 June 1997</td>\n",
       "      <td>Alternative Rock, Art Rock</td>\n",
       "      <td>melancholic, anxious, futuristic, alienation, ...</td>\n",
       "      <td>4.23</td>\n",
       "      <td>70,382</td>\n",
       "      <td>1531</td>\n",
       "    </tr>\n",
       "    <tr>\n",
       "      <th>1</th>\n",
       "      <td>2.0</td>\n",
       "      <td>Wish You Were Here</td>\n",
       "      <td>Pink Floyd</td>\n",
       "      <td>12 September 1975</td>\n",
       "      <td>Progressive Rock, Art Rock</td>\n",
       "      <td>melancholic, atmospheric, progressive, male vo...</td>\n",
       "      <td>4.29</td>\n",
       "      <td>48,662</td>\n",
       "      <td>983</td>\n",
       "    </tr>\n",
       "    <tr>\n",
       "      <th>2</th>\n",
       "      <td>3.0</td>\n",
       "      <td>In the Court of the Crimson King</td>\n",
       "      <td>King Crimson</td>\n",
       "      <td>10 October 1969</td>\n",
       "      <td>Progressive Rock, Art Rock</td>\n",
       "      <td>fantasy, epic, progressive, philosophical, com...</td>\n",
       "      <td>4.30</td>\n",
       "      <td>44,943</td>\n",
       "      <td>870</td>\n",
       "    </tr>\n",
       "    <tr>\n",
       "      <th>3</th>\n",
       "      <td>4.0</td>\n",
       "      <td>Kid A</td>\n",
       "      <td>Radiohead</td>\n",
       "      <td>3 October 2000</td>\n",
       "      <td>Art Rock, Experimental Rock, Electronic</td>\n",
       "      <td>cold, melancholic, futuristic, atmospheric, an...</td>\n",
       "      <td>4.21</td>\n",
       "      <td>58,590</td>\n",
       "      <td>734</td>\n",
       "    </tr>\n",
       "    <tr>\n",
       "      <th>4</th>\n",
       "      <td>5.0</td>\n",
       "      <td>To Pimp a Butterfly</td>\n",
       "      <td>Kendrick Lamar</td>\n",
       "      <td>15 March 2015</td>\n",
       "      <td>Conscious Hip Hop, West Coast Hip Hop, Jazz Rap</td>\n",
       "      <td>political, conscious, poetic, protest, concept...</td>\n",
       "      <td>4.27</td>\n",
       "      <td>44,206</td>\n",
       "      <td>379</td>\n",
       "    </tr>\n",
       "  </tbody>\n",
       "</table>\n",
       "</div>"
      ],
      "text/plain": [
       "   Ranking                             Album     Artist Name  \\\n",
       "0      1.0                       OK Computer       Radiohead   \n",
       "1      2.0                Wish You Were Here      Pink Floyd   \n",
       "2      3.0  In the Court of the Crimson King    King Crimson   \n",
       "3      4.0                             Kid A       Radiohead   \n",
       "4      5.0               To Pimp a Butterfly  Kendrick Lamar   \n",
       "\n",
       "        Release Date                                           Genres  \\\n",
       "0       16 June 1997                       Alternative Rock, Art Rock   \n",
       "1  12 September 1975                       Progressive Rock, Art Rock   \n",
       "2    10 October 1969                       Progressive Rock, Art Rock   \n",
       "3     3 October 2000          Art Rock, Experimental Rock, Electronic   \n",
       "4      15 March 2015  Conscious Hip Hop, West Coast Hip Hop, Jazz Rap   \n",
       "\n",
       "                                         Descriptors  Average Rating  \\\n",
       "0  melancholic, anxious, futuristic, alienation, ...            4.23   \n",
       "1  melancholic, atmospheric, progressive, male vo...            4.29   \n",
       "2  fantasy, epic, progressive, philosophical, com...            4.30   \n",
       "3  cold, melancholic, futuristic, atmospheric, an...            4.21   \n",
       "4  political, conscious, poetic, protest, concept...            4.27   \n",
       "\n",
       "  Number of Ratings  Reviews  \n",
       "0            70,382     1531  \n",
       "1            48,662      983  \n",
       "2            44,943      870  \n",
       "3            58,590      734  \n",
       "4            44,206      379  "
      ]
     },
     "execution_count": 2,
     "metadata": {},
     "output_type": "execute_result"
    }
   ],
   "source": [
    "# Cargar el dataset\n",
    "df = pd.read_csv('top_5000_all_time.csv')\n",
    "\n",
    "\n",
    "print(df.columns )\n",
    "df.info()\n",
    "# Observar las 5 primeras filas\n",
    "df.head()"
   ]
  },
  {
   "cell_type": "markdown",
   "metadata": {},
   "source": [
    "### Paso 4: Preprocesar los datos"
   ]
  },
  {
   "cell_type": "markdown",
   "metadata": {},
   "source": [
    "### 4.1: Tokenización"
   ]
  },
  {
   "cell_type": "markdown",
   "metadata": {},
   "source": [
    "Primero, tokenizamos las reseñas de los álbumes. La tokenización es el proceso \n",
    "de dividir el texto en palabras individuales o \"tokens\". En este caso, \n",
    "dividimos la columna review en palabras:"
   ]
  },
  {
   "cell_type": "code",
   "execution_count": 3,
   "metadata": {},
   "outputs": [
    {
     "name": "stderr",
     "output_type": "stream",
     "text": [
      "[nltk_data] Downloading package punkt to\n",
      "[nltk_data]     C:\\Users\\Javier\\AppData\\Roaming\\nltk_data...\n",
      "[nltk_data]   Package punkt is already up-to-date!\n"
     ]
    },
    {
     "data": {
      "text/plain": [
       "FileSystemPathPointer('C:\\\\Users\\\\Javier\\\\AppData\\\\Roaming\\\\nltk_data\\\\tokenizers\\\\punkt')"
      ]
     },
     "execution_count": 3,
     "metadata": {},
     "output_type": "execute_result"
    }
   ],
   "source": [
    "# Descargar los recursos de NLTK necesarios\n",
    "nltk.download('punkt')\n",
    "\n",
    "# Verificar que 'punkt' está disponible\n",
    "nltk.data.find('tokenizers/punkt')"
   ]
  },
  {
   "cell_type": "code",
   "execution_count": 4,
   "metadata": {},
   "outputs": [
    {
     "name": "stdout",
     "output_type": "stream",
     "text": [
      "   Reviews tokens\n",
      "0     1531     []\n",
      "1      983     []\n",
      "2      870     []\n",
      "3      734     []\n",
      "4      379     []\n"
     ]
    },
    {
     "name": "stderr",
     "output_type": "stream",
     "text": [
      "[nltk_data] Downloading package punkt to\n",
      "[nltk_data]     C:\\Users\\Javier\\AppData\\Roaming\\nltk_data...\n",
      "[nltk_data]   Package punkt is already up-to-date!\n"
     ]
    }
   ],
   "source": [
    "import nltk\n",
    "import pandas as pd\n",
    "from nltk.tokenize import word_tokenize\n",
    "\n",
    "# Descargar los recursos de NLTK necesarios\n",
    "nltk.download('punkt')\n",
    "\n",
    "# Tokenizar las reseñas \n",
    "df['tokens'] = df['Reviews'].apply(lambda x: word_tokenize(x.lower()) if isinstance(x, str) else [])\n",
    "\n",
    "# Verificar los primeros registros para asegurarse de que la tokenización se realizó correctamente\n",
    "print(df[['Reviews', 'tokens']].head())"
   ]
  },
  {
   "cell_type": "markdown",
   "metadata": {},
   "source": [
    "### 4.2: Eliminación de stopwords "
   ]
  },
  {
   "cell_type": "markdown",
   "metadata": {},
   "source": [
    "Eliminamos las stopwords (palabras vacías) que no aportan valor en el \n",
    "análisis, como \"el\", \"la\", \"y\", etc."
   ]
  },
  {
   "cell_type": "code",
   "execution_count": 15,
   "metadata": {},
   "outputs": [
    {
     "name": "stderr",
     "output_type": "stream",
     "text": [
      "[nltk_data] Downloading package stopwords to\n",
      "[nltk_data]     C:\\Users\\Javier\\AppData\\Roaming\\nltk_data...\n",
      "[nltk_data]   Package stopwords is already up-to-date!\n"
     ]
    }
   ],
   "source": [
    "from faker import Faker\n",
    "from random import choice\n",
    "\n",
    "# Descargar el conjunto de stopwords de NLTK \n",
    "nltk.download('stopwords') \n",
    "stop_words = set(stopwords.words('english'))  \n",
    "fake = Faker()\n",
    "num_rows = len(df)\n",
    "\n",
    "# Generar texto con stop words para cada fila\n",
    "def generate_text_with_stopwords():\n",
    "    generated_text = fake.text()\n",
    "    \n",
    "    # Dividir el texto generado en palabras\n",
    "    words = generated_text.split()\n",
    "    \n",
    "    # Mezclar las palabras con las stopwords\n",
    "    text_with_stopwords = ' '.join([choice(stop_words) if i % 5 == 0 else word for i, word in enumerate(words)])\n",
    "    \n",
    "    generated_reviews = [generate_text_with_stopwords() for _ in range(num_rows)]\n",
    "    \n",
    "    df['Reviews'] = generated_reviews\n",
    "    \n",
    "    return text_with_stopwords\n",
    "\n",
    "    \n",
    "    \n",
    "    \n",
    "    \n",
    "\n",
    "# Eliminar las stopwords de los tokens \n",
    "df['tokens_sin_stopwords'] = df['tokens'].apply(lambda x: [word for word in x if \n",
    "word not in stop_words]) "
   ]
  },
  {
   "cell_type": "code",
   "execution_count": 11,
   "metadata": {},
   "outputs": [
    {
     "name": "stdout",
     "output_type": "stream",
     "text": [
      "   Ranking                             Album     Artist Name  \\\n",
      "0      1.0                       OK Computer       Radiohead   \n",
      "1      2.0                Wish You Were Here      Pink Floyd   \n",
      "2      3.0  In the Court of the Crimson King    King Crimson   \n",
      "3      4.0                             Kid A       Radiohead   \n",
      "4      5.0               To Pimp a Butterfly  Kendrick Lamar   \n",
      "\n",
      "        Release Date                                           Genres  \\\n",
      "0       16 June 1997                       Alternative Rock, Art Rock   \n",
      "1  12 September 1975                       Progressive Rock, Art Rock   \n",
      "2    10 October 1969                       Progressive Rock, Art Rock   \n",
      "3     3 October 2000          Art Rock, Experimental Rock, Electronic   \n",
      "4      15 March 2015  Conscious Hip Hop, West Coast Hip Hop, Jazz Rap   \n",
      "\n",
      "                                         Descriptors  Average Rating  \\\n",
      "0  melancholic, anxious, futuristic, alienation, ...            4.23   \n",
      "1  melancholic, atmospheric, progressive, male vo...            4.29   \n",
      "2  fantasy, epic, progressive, philosophical, com...            4.30   \n",
      "3  cold, melancholic, futuristic, atmospheric, an...            4.21   \n",
      "4  political, conscious, poetic, protest, concept...            4.27   \n",
      "\n",
      "  Number of Ratings  Reviews tokens  \n",
      "0            70,382     1531     []  \n",
      "1            48,662      983     []  \n",
      "2            44,943      870     []  \n",
      "3            58,590      734     []  \n",
      "4            44,206      379     []  \n"
     ]
    }
   ],
   "source": [
    "\n",
    "print(df.head())"
   ]
  },
  {
   "cell_type": "markdown",
   "metadata": {},
   "source": [
    "### 4.3: Lematización"
   ]
  },
  {
   "cell_type": "markdown",
   "metadata": {},
   "source": [
    "Aplicamos lematización para reducir las palabras a su forma base. Por ejemplo, \n",
    "\"correré\" se convierte en \"correr\"."
   ]
  },
  {
   "cell_type": "code",
   "execution_count": 17,
   "metadata": {},
   "outputs": [],
   "source": [
    "# Descargar los recursos necesarios para lematización \n",
    "#nltk.download('wordnet') \n",
    "lemmatizer = WordNetLemmatizer() \n",
    "\n",
    "# Lematizar las palabras \n",
    "df['tokens_lemmatizados'] = df['tokens_sin_stopwords'].apply(lambda x: \n",
    "[lemmatizer.lemmatize(word) for word in x])"
   ]
  },
  {
   "cell_type": "markdown",
   "metadata": {},
   "source": [
    "### Paso 5: Análisis de sentimiento"
   ]
  },
  {
   "cell_type": "markdown",
   "metadata": {},
   "source": [
    "Realizamos el análisis de sentimiento sobre las reseñas utilizando el \n",
    "SentimentIntensityAnalyzer de NLTK, que nos da una puntuación de sentimiento \n",
    "de cada reseña. Este valor va de -1 (sentimiento negativo) a 1 (sentimiento \n",
    "positivo). "
   ]
  },
  {
   "cell_type": "code",
   "execution_count": 18,
   "metadata": {},
   "outputs": [
    {
     "name": "stderr",
     "output_type": "stream",
     "text": [
      "[nltk_data] Downloading package vader_lexicon to\n",
      "[nltk_data]     C:\\Users\\Javier\\AppData\\Roaming\\nltk_data...\n",
      "[nltk_data]   Package vader_lexicon is already up-to-date!\n"
     ]
    },
    {
     "name": "stdout",
     "output_type": "stream",
     "text": [
      "   Reviews  sentimiento\n",
      "0     1531          0.0\n",
      "1      983          0.0\n",
      "2      870          0.0\n",
      "3      734          0.0\n",
      "4      379          0.0\n"
     ]
    }
   ],
   "source": [
    "from nltk.sentiment import SentimentIntensityAnalyzer\n",
    "# Descargar los recursos de NLTK necesarios\n",
    "nltk.download('vader_lexicon')\n",
    "\n",
    "# Inicializar el analizador de sentimiento\n",
    "sia = SentimentIntensityAnalyzer()\n",
    "\n",
    "# Calcular el puntaje de sentimiento para cada reseña\n",
    "df['sentimiento'] = df['Reviews'].apply(lambda x: sia.polarity_scores(str(x))['compound'])   # 'compound' es un valor entre -1 y 1\n",
    "\n",
    "# Verificar los primeros registros para asegurarse de que el análisis de sentimiento se realizó correctamente\n",
    "print(df[['Reviews', 'sentimiento']].head()) #'compound' es un valor entre -1 y 1 \n",
    " \n",
    "\n"
   ]
  },
  {
   "cell_type": "markdown",
   "metadata": {},
   "source": [
    "### Paso 6: Relación entre sentimiento y puntuación promedio "
   ]
  },
  {
   "cell_type": "markdown",
   "metadata": {},
   "source": [
    "A continuación, vamos a visualizar cómo el sentimiento de las reseñas se \n",
    "relaciona con la puntuación promedio de cada álbum. "
   ]
  },
  {
   "cell_type": "markdown",
   "metadata": {},
   "source": [
    "### 6.1: Gráfico de dispersión de sentimiento vs. puntuación promedio"
   ]
  },
  {
   "cell_type": "markdown",
   "metadata": {},
   "source": [
    "Vamos a crear un gráfico de dispersión para ver si existe alguna relación \n",
    "entre el sentimiento de las reseñas y la puntuación promedio de los álbumes."
   ]
  },
  {
   "cell_type": "code",
   "execution_count": 25,
   "metadata": {},
   "outputs": [
    {
     "data": {
      "image/png": "[encoded data removed]",
      "text/plain": [
       "<Figure size 1000x600 with 1 Axes>"
      ]
     },
     "metadata": {},
     "output_type": "display_data"
    }
   ],
   "source": [
    "# Gráfico de dispersión: Sentimiento vs. Puntuación promedio\n",
    "plt.figure(figsize=(10, 6))\n",
    "sns.scatterplot(x='sentimiento', y='Average Rating', data=df, color='blue', alpha=0.5)\n",
    "plt.title('Sentimiento vs. Puntuación promedio')\n",
    "plt.xlabel('Sentimiento')\n",
    "plt.ylabel('Puntuación promedio')\n",
    "plt.grid(True)\n",
    "plt.show()\n",
    "\n"
   ]
  },
  {
   "cell_type": "markdown",
   "metadata": {},
   "source": [
    "### 6.2: Histograma de Sentimientos"
   ]
  },
  {
   "cell_type": "markdown",
   "metadata": {},
   "source": [
    "Podemos crear un histograma para ver la distribución de los sentimientos de \n",
    "las reseñas. "
   ]
  },
  {
   "cell_type": "code",
   "execution_count": 20,
   "metadata": {},
   "outputs": [
    {
     "data": {
      "image/png": "[encoded data removed]",
      "text/plain": [
       "<Figure size 1000x600 with 1 Axes>"
      ]
     },
     "metadata": {},
     "output_type": "display_data"
    }
   ],
   "source": [
    "# Crear un histograma de la distribución de sentimientos \n",
    "plt.figure(figsize=(10, 6))\n",
    "sns.histplot(df['sentimiento'], bins=30, color='blue', kde=True)\n",
    "plt.title('Distribución de sentimientos')\n",
    "plt.xlabel('Sentimiento')\n",
    "plt.ylabel('Frecuencia')\n",
    "plt.grid(True)\n",
    "plt.show()"
   ]
  },
  {
   "cell_type": "markdown",
   "metadata": {},
   "source": [
    "### Paso 7: Clasificación de Sentimientos"
   ]
  },
  {
   "cell_type": "markdown",
   "metadata": {},
   "source": [
    "Clasificamos las reseñas en positivas, negativas y neutrales según el puntaje \n",
    "de sentimiento. Utilizamos un umbral para determinar estas categorías. "
   ]
  },
  {
   "cell_type": "code",
   "execution_count": 21,
   "metadata": {},
   "outputs": [
    {
     "data": {
      "text/plain": [
       "clasificacion_sentimiento\n",
       "Neutral     4976\n",
       "Negativo      19\n",
       "Positivo       5\n",
       "Name: count, dtype: int64"
      ]
     },
     "execution_count": 21,
     "metadata": {},
     "output_type": "execute_result"
    }
   ],
   "source": [
    "# Clasificar las reseñas según el sentimiento \n",
    "df['clasificacion_sentimiento'] = df['sentimiento'].apply(lambda x: 'Positivo' if x \n",
    "> 0 else ('Negativo' if x < 0 else 'Neutral')) \n",
    "# Ver las frecuencias de cada clase \n",
    "df['clasificacion_sentimiento'].value_counts() "
   ]
  },
  {
   "cell_type": "markdown",
   "metadata": {},
   "source": [
    "### 7.1: Visualización de la clasificación de sentimientos "
   ]
  },
  {
   "cell_type": "markdown",
   "metadata": {},
   "source": [
    "Creamos un gráfico para ver la cantidad de reseñas positivas, negativas y \n",
    "neutrales."
   ]
  },
  {
   "cell_type": "code",
   "execution_count": 22,
   "metadata": {},
   "outputs": [
    {
     "name": "stderr",
     "output_type": "stream",
     "text": [
      "C:\\Users\\Javier\\AppData\\Local\\Temp\\ipykernel_15236\\679631059.py:3: FutureWarning: \n",
      "\n",
      "Passing `palette` without assigning `hue` is deprecated and will be removed in v0.14.0. Assign the `x` variable to `hue` and set `legend=False` for the same effect.\n",
      "\n",
      "  sns.countplot(data=df, x='clasificacion_sentimiento', palette='viridis', )\n"
     ]
    },
    {
     "data": {
      "image/png": "[encoded data removed]",
      "text/plain": [
       "<Figure size 800x600 with 1 Axes>"
      ]
     },
     "metadata": {},
     "output_type": "display_data"
    }
   ],
   "source": [
    "# Visualizar las clasificaciones de sentimiento \n",
    "plt.figure(figsize=(8, 6)) \n",
    "sns.countplot(data=df, x='clasificacion_sentimiento', palette='viridis', )\n",
    "plt.title('Clasificación de Sentimientos de las Reseñas') \n",
    "plt.xlabel('Clasificación de Sentimiento') \n",
    "plt.ylabel('Frecuencia')\n",
    "plt.grid(True)\n",
    "plt.show()\n"
   ]
  },
  {
   "cell_type": "markdown",
   "metadata": {},
   "source": [
    "### Paso 8: Conclusiones"
   ]
  },
  {
   "cell_type": "markdown",
   "metadata": {},
   "source": [
    "- Distribución de sentimientos: El histograma nos muestra si las reseñas \n",
    "son mayormente positivas, negativas o neutrales. Si la mayoría de las \n",
    "reseñas son positivas, podríamos investigar qué características del \n",
    "álbum generan ese sentimiento. \n",
    "- Relación entre sentimiento y puntuación: El gráfico de dispersión nos \n",
    "ayuda a ver si hay alguna correlación entre la puntuación promedio y el \n",
    "sentimiento de las reseñas. Por ejemplo, los álbumes con puntuaciones \n",
    "altas pueden tener sentimientos más positivos. \n",
    "- Clasificación de sentimiento: Al clasificar las reseñas como positivas, \n",
    "negativas o neutrales, podemos analizar las reseñas para cada categoría \n",
    "y detectar tendencias o patrones en los comentarios."
   ]
  },
  {
   "cell_type": "markdown",
   "metadata": {},
   "source": [
    "### Resumen "
   ]
  },
  {
   "cell_type": "markdown",
   "metadata": {},
   "source": [
    "En este ejercicio, hemos realizado un análisis de sentimientos sobre las \n",
    "reseñas de álbumes utilizando el paquete nltk para procesamiento de texto \n",
    "(tokenización, eliminación de stopwords y lematización) y el \n",
    "SentimentIntensityAnalyzer para calcular los puntajes de sentimiento. \n",
    "Finalmente, visualizamos los resultados para comprender mejor el sentimiento \n",
    "detrás de las reseñas y su relación con la puntuación promedio de cada álbum."
   ]
  }
 ],
 "metadata": {
  "kernelspec": {
   "display_name": "python",
   "language": "python",
   "name": "python3"
  },
  "language_info": {
   "codemirror_mode": {
    "name": "ipython",
    "version": 3
   },
   "file_extension": ".py",
   "mimetype": "text/x-python",
   "name": "python",
   "nbconvert_exporter": "python",
   "pygments_lexer": "ipython3",
   "version": "3.12.9"
  }
 },
 "nbformat": 4,
 "nbformat_minor": 2
}
